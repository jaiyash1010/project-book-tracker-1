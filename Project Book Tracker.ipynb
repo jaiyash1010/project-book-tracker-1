{
 "cells": [
  {
   "cell_type": "code",
   "execution_count": null,
   "id": "43668f5e-1e28-48a4-b8cb-6e7fd44b1345",
   "metadata": {},
   "outputs": [
    {
     "name": "stdout",
     "output_type": "stream",
     "text": [
      "\n",
      "Book Tracker\n",
      "1. Add Book\n",
      "2. View Books\n",
      "3. Mark Book as Read\n",
      "4. Delete Book\n",
      "5. Exit\n"
     ]
    },
    {
     "name": "stdin",
     "output_type": "stream",
     "text": [
      "Enter your choice:  1\n",
      "Enter the book title:  jk rowling\n",
      "Enter the author:  jk rowling\n"
     ]
    },
    {
     "name": "stdout",
     "output_type": "stream",
     "text": [
      "Book added successfully!\n",
      "\n",
      "Book Tracker\n",
      "1. Add Book\n",
      "2. View Books\n",
      "3. Mark Book as Read\n",
      "4. Delete Book\n",
      "5. Exit\n"
     ]
    },
    {
     "name": "stdin",
     "output_type": "stream",
     "text": [
      "Enter your choice:  4\n"
     ]
    },
    {
     "name": "stdout",
     "output_type": "stream",
     "text": [
      "Title                          Author               Status    \n",
      "-----------------------------------------------------------------\n",
      "jk rowling                     jk rowling           Unread    \n"
     ]
    },
    {
     "name": "stdin",
     "output_type": "stream",
     "text": [
      "Enter the title of the book to delete:  jk rowling\n"
     ]
    },
    {
     "name": "stdout",
     "output_type": "stream",
     "text": [
      "Book deleted successfully!\n",
      "\n",
      "Book Tracker\n",
      "1. Add Book\n",
      "2. View Books\n",
      "3. Mark Book as Read\n",
      "4. Delete Book\n",
      "5. Exit\n"
     ]
    }
   ],
   "source": [
    "import csv\n",
    "import os\n",
    "\n",
    "# File name for storing books\n",
    "FILE_NAME = \"books.csv\"\n",
    "\n",
    "\n",
    "def initialize_csv():\n",
    "    \"\"\"Initialize the CSV file if it doesn't exist.\"\"\"\n",
    "    if not os.path.exists(FILE_NAME):\n",
    "        with open(FILE_NAME, mode='w', newline='', encoding='utf-8') as file:\n",
    "            writer = csv.writer(file)\n",
    "            writer.writerow([\"Title\", \"Author\", \"Status\"])  # Columns: Title, Author, Status\n",
    "\n",
    "\n",
    "def add_book():\n",
    "    \"\"\"Add a new book.\"\"\"\n",
    "    title = input(\"Enter the book title: \")\n",
    "    author = input(\"Enter the author: \")\n",
    "\n",
    "    with open(FILE_NAME, mode='a', newline='', encoding='utf-8') as file:\n",
    "        writer = csv.writer(file)\n",
    "        writer.writerow([title, author, \"Unread\"])\n",
    "\n",
    "    print(\"Book added successfully!\")\n",
    "\n",
    "\n",
    "def view_books():\n",
    "    \"\"\"View all books.\"\"\"\n",
    "    with open(FILE_NAME, mode='r', encoding='utf-8') as file:\n",
    "        reader = csv.reader(file)\n",
    "        books = list(reader)\n",
    "\n",
    "    if len(books) <= 1:\n",
    "        print(\"No books found!\")\n",
    "    else:\n",
    "        print(f\"{'Title':<30} {'Author':<20} {'Status':<10}\")\n",
    "        print(\"-\" * 65)\n",
    "        for book in books[1:]:\n",
    "            print(f\"{book[0]:<30} {book[1]:<20} {book[2]:<10}\")\n",
    "\n",
    "\n",
    "def mark_book_read():\n",
    "    \"\"\"Mark a book as read.\"\"\"\n",
    "    view_books()\n",
    "    title_to_mark = input(\"Enter the title of the book to mark as read: \")\n",
    "\n",
    "    updated = False\n",
    "    books = []\n",
    "\n",
    "    with open(FILE_NAME, mode='r', encoding='utf-8') as file:\n",
    "        reader = csv.reader(file)\n",
    "        books = list(reader)\n",
    "\n",
    "    for book in books:\n",
    "        if book[0] == title_to_mark and book[2] == \"Unread\":\n",
    "            books[books.index(book)][2] = \"Read\"\n",
    "            updated = True\n",
    "            break\n",
    "\n",
    "    if updated:\n",
    "        with open(FILE_NAME, mode='w', newline='', encoding='utf-8') as file:\n",
    "            writer = csv.writer(file)\n",
    "            writer.writerows(books)\n",
    "        print(\"Book marked as read!\")\n",
    "    else:\n",
    "        print(\"Book not found or already marked as read!\")\n",
    "\n",
    "\n",
    "def delete_book():\n",
    "    \"\"\"Delete a book.\"\"\"\n",
    "    view_books()\n",
    "    title_to_delete = input(\"Enter the title of the book to delete: \")\n",
    "\n",
    "    books = []\n",
    "    deleted = False\n",
    "\n",
    "    with open(FILE_NAME, mode='r', encoding='utf-8') as file:\n",
    "        reader = csv.reader(file)\n",
    "        books = list(reader)\n",
    "\n",
    "    for book in books:\n",
    "        if book[0] == title_to_delete:\n",
    "            books.remove(book)\n",
    "            deleted = True\n",
    "            break\n",
    "\n",
    "    if deleted:\n",
    "        with open(FILE_NAME, mode='w', newline='', encoding='utf-8') as file:\n",
    "            writer = csv.writer(file)\n",
    "            writer.writerows(books)\n",
    "        print(\"Book deleted successfully!\")\n",
    "    else:\n",
    "        print(\"Book not found!\")\n",
    "\n",
    "\n",
    "def main():\n",
    "    \"\"\"Main function to run the book tracker.\"\"\"\n",
    "    initialize_csv()\n",
    "\n",
    "    while True:\n",
    "        print(\"\\nBook Tracker\")\n",
    "        print(\"1. Add Book\")\n",
    "        print(\"2. View Books\")\n",
    "        print(\"3. Mark Book as Read\")\n",
    "        print(\"4. Delete Book\")\n",
    "        print(\"5. Exit\")\n",
    "\n",
    "        choice = input(\"Enter your choice: \")\n",
    "\n",
    "        if choice == \"1\":\n",
    "            add_book()\n",
    "        elif choice == \"2\":\n",
    "            view_books()\n",
    "        elif choice == \"3\":\n",
    "            mark_book_read()\n",
    "        elif choice == \"4\":\n",
    "            delete_book()\n",
    "        elif choice == \"5\":\n",
    "            print(\"Goodbye!\")\n",
    "            break\n",
    "        else:\n",
    "            print(\"Invalid choice. Please try again.\")\n",
    "\n",
    "\n",
    "if __name__ == \"__main__\":\n",
    "    main()\n"
   ]
  },
  {
   "cell_type": "code",
   "execution_count": null,
   "id": "d43e59eb-b465-4f62-b0c6-59e482135576",
   "metadata": {},
   "outputs": [],
   "source": []
  }
 ],
 "metadata": {
  "kernelspec": {
   "display_name": "Python 3 (ipykernel)",
   "language": "python",
   "name": "python3"
  },
  "language_info": {
   "codemirror_mode": {
    "name": "ipython",
    "version": 3
   },
   "file_extension": ".py",
   "mimetype": "text/x-python",
   "name": "python",
   "nbconvert_exporter": "python",
   "pygments_lexer": "ipython3",
   "version": "3.12.4"
  }
 },
 "nbformat": 4,
 "nbformat_minor": 5
}
